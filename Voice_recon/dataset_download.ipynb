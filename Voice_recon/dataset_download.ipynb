{
 "cells": [
  {
   "cell_type": "markdown",
   "metadata": {},
   "source": [
    "# this code will download the arabic speech corpus to the datasets folder"
   ]
  },
  {
   "cell_type": "code",
   "execution_count": 1,
   "metadata": {
    "scrolled": true
   },
   "outputs": [
    {
     "name": "stderr",
     "output_type": "stream",
     "text": [
      " 90%|█████████████████████████████████▍   | 1.08G/1.19G [14:16<01:30, 1.26MB/s]"
     ]
    },
    {
     "name": "stdout",
     "output_type": "stream",
     "text": [
      "File downloaded successfully!\n",
      "Decompressing...\n",
      "Error: The downloaded file is not a valid ZIP archive.\n"
     ]
    },
    {
     "name": "stderr",
     "output_type": "stream",
     "text": [
      "\n"
     ]
    }
   ],
   "source": [
    "import os\n",
    "import requests\n",
    "from tqdm import tqdm\n",
    "import zipfile\n",
    "\n",
    "url = \"https://ar.arabicspeechcorpus.com/arabic-speech-corpus.zip\"\n",
    "local_filename = \"arabic-speech-corpus.zip\"\n",
    "local_datasets_folder = \"./datasets/\"\n",
    "local_filepath = local_datasets_folder+local_filename\n",
    "\n",
    "if not os.path.exists(local_datasets_folder):\n",
    "    os.mkdir(local_datasets_folder)\n",
    "\n",
    "# Check if the file already exists locally\n",
    "if os.path.exists(local_filepath):\n",
    "    print(f\"The file '{local_filepath}' aexists locally.\")\n",
    "else:\n",
    "    # Send a GET request to the URL\n",
    "    response = requests.get(url, stream=True)\n",
    "\n",
    "    # Check if the request was successful\n",
    "    if response.status_code == 200:\n",
    "        # Get the total file size in bytes\n",
    "        total_size = int(response.headers.get('content-length', 0))\n",
    "\n",
    "        # Initialize tqdm with the total file size\n",
    "        progress_bar = tqdm(total=total_size, unit='B', unit_scale=True)\n",
    "\n",
    "        with open(local_filepath, 'wb') as f:\n",
    "            for chunk in response.iter_content(chunk_size=1024):\n",
    "                f.write(chunk)\n",
    "                progress_bar.update(len(chunk))\n",
    "\n",
    "        progress_bar.close()\n",
    "        \n",
    "        print(\"File downloaded successfully!\")\n",
    "        \n",
    "        # Decompress the downloaded ZIP file\n",
    "        print(\"Decompressing...\")\n",
    "        try:\n",
    "            with zipfile.ZipFile(local_filepath, 'r') as zip_ref:\n",
    "                zip_ref.extractall('.')\n",
    "            print(\"Decompression completed.\")\n",
    "            # Delete the ZIP file after decompression\n",
    "            os.remove(local_filepath)\n",
    "            print(\"Deleted the ZIP file.\")\n",
    "        except zipfile.BadZipFile:\n",
    "            print(\"Error: The downloaded file is not a valid ZIP archive.\")\n",
    "    else:\n",
    "        print(f\"Failed to download file. Status code: {response.status_code}\")\n"
   ]
  }
 ],
 "metadata": {
  "kernelspec": {
   "display_name": "Python 3 (ipykernel)",
   "language": "python",
   "name": "python3"
  },
  "language_info": {
   "codemirror_mode": {
    "name": "ipython",
    "version": 3
   },
   "file_extension": ".py",
   "mimetype": "text/x-python",
   "name": "python",
   "nbconvert_exporter": "python",
   "pygments_lexer": "ipython3",
   "version": "3.10.12"
  }
 },
 "nbformat": 4,
 "nbformat_minor": 4
}
