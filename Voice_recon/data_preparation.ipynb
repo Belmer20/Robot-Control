{
 "cells": [
  {
   "cell_type": "code",
   "execution_count": 4,
   "metadata": {},
   "outputs": [],
   "source": [
    "import warnings\n",
    "import os\n",
    "import pandas as pd\n",
    "import numpy as np\n",
    "from utils import preprocess_arabic_text\n",
    "from tqdm import tqdm"
   ]
  },
  {
   "cell_type": "code",
   "execution_count": 5,
   "metadata": {},
   "outputs": [],
   "source": [
    "warnings.filterwarnings(action='ignore', category=pd.errors.DtypeWarning)"
   ]
  },
  {
   "cell_type": "code",
   "execution_count": 6,
   "metadata": {},
   "outputs": [],
   "source": [
    "\n",
    "datasets_base_path = \"./datasets/\"\n",
    "arabic_speech_corpus_path = os.path.join(datasets_base_path,\"arabic-speech-corpus\")\n",
    "cv_corpus_path = os.path.join(datasets_base_path, \"cv-corpus-17.0-2024-03-15/ar\")\n",
    "\n",
    "output_base_folder = os.path.join(datasets_base_path, 'prepared')"
   ]
  },
  {
   "cell_type": "code",
   "execution_count": 7,
   "metadata": {},
   "outputs": [],
   "source": [
    "dataframes = [\"validated\", \"validated_sentences\", \"unvalidated_sentences\", \"train\", \"test\", \"other\", \"dev\"]"
   ]
  },
  {
   "cell_type": "code",
   "execution_count": null,
   "metadata": {},
   "outputs": [],
   "source": [
    "arabic_text = np.array([])\n",
    "\n",
    "\n",
    "for dataframe in dataframes:\n",
    "    print(f\"processing {dataframe} file\")\n",
    "    \n",
    "    df = pd.read_csv(os.path.join(cv_corpus_path, dataframe + \".tsv\"), sep='\\t')\n",
    "    sentences = set()\n",
    "    for sentence in tqdm(df['sentence'], desc='Sentences'):\n",
    "        sentences.add(preprocess_arabic_text(sentence))\n",
    "    \n",
    "\n",
    "    arabic_text = np.append(arabic_text, np.array(list(sentences)))\n"
   ]
  },
  {
   "cell_type": "code",
   "execution_count": null,
   "metadata": {},
   "outputs": [],
   "source": [
    "np.savetxt(os.path.join(output_base_folder, \"arabic_text.txt\"),arabic_text, fmt='%s')"
   ]
  },
  {
   "cell_type": "code",
   "execution_count": 10,
   "metadata": {},
   "outputs": [],
   "source": [
    "train_df = pd.read_csv(os.path.join(cv_corpus_path, \"train.tsv\"), sep='\\t')\n",
    "test_df = pd.read_csv(os.path.join(cv_corpus_path, \"test.tsv\"), sep='\\t')\n",
    "other_df = pd.read_csv(os.path.join(cv_corpus_path, \"other.tsv\"), sep='\\t')"
   ]
  },
  {
   "cell_type": "code",
   "execution_count": 18,
   "metadata": {},
   "outputs": [
    {
     "data": {
      "text/plain": [
       "array(['common_voice_ar_24203362.mp3', 'common_voice_ar_28865270.mp3',\n",
       "       'common_voice_ar_22931432.mp3', ...,\n",
       "       'common_voice_ar_20835625.mp3', 'common_voice_ar_20835626.mp3',\n",
       "       'common_voice_ar_20835656.mp3'], dtype=object)"
      ]
     },
     "execution_count": 18,
     "metadata": {},
     "output_type": "execute_result"
    }
   ],
   "source": [
    "train_df = train_df[['path', 'sentence']]\n",
    "test_df = test_df[['path', 'sentence']]\n",
    "\n",
    "\n",
    "test_df[\"path\"].values"
   ]
  },
  {
   "cell_type": "code",
   "execution_count": 42,
   "metadata": {},
   "outputs": [
    {
     "name": "stdout",
     "output_type": "stream",
     "text": [
      "processing train.tsv file...\n"
     ]
    },
    {
     "name": "stderr",
     "output_type": "stream",
     "text": [
      "100%|████████████████████████████████████████████████████████| 28369/28369 [01:35<00:00, 297.97it/s]\n"
     ]
    }
   ],
   "source": [
    "all_file_names = set()\n",
    "frames = [\"train.tsv\", \"other.tsv\", \"dev.tsv\", \"validated.tsv\"]\n",
    "\n",
    "audio_file = []\n",
    "sentences = []\n",
    "for frame in frames:\n",
    "    print(f\"processing {frame} file...\")\n",
    "    df = pd.read_csv(os.path.join(cv_corpus_path, frame), sep='\\t')\n",
    "    for filename in tqdm(df[\"path\"].values, ncols=100):\n",
    "        if not (filename in all_file_names):\n",
    "            s = df[df[\"path\"] == filename][\"sentence\"].iloc[0]\n",
    "            all_file_names.add(filename)\n",
    "            audio_file.append(filename)\n",
    "            sentences.append(s)\n",
    "\n",
    "            \n",
    "            # all_sentences.add(preprocess_arabic_text(sentence))\n",
    "    "
   ]
  },
  {
   "cell_type": "code",
   "execution_count": 50,
   "metadata": {},
   "outputs": [
    {
     "name": "stdout",
     "output_type": "stream",
     "text": [
      "filenames: 28369\n",
      "sentence 28369\n"
     ]
    }
   ],
   "source": [
    "aggregated_df = pd.DataFrame(columns=[\"audio_file\", \"sentence\"])\n",
    "\n",
    "print(f\"filenames: {len(audio_file)}\")\n",
    "print(f\"sentence {len(sentences)}\")\n",
    "\n",
    "aggregated_df[\"audio_file\"] = audio_file\n",
    "aggregated_df[\"sentence\"] = sentences\n",
    "\n",
    "\n",
    "test_df = pd.read_csv(os.path.join(cv_corpus_path, \"test.tsv\"), sep='\\t')\n",
    "\n",
    "test_df[[\"path\", \"sentence\"]].to_csv(os.path.join(output_base_folder, 'test.csv'), sep=',', index=False)\n",
    "\n",
    "aggregated_df.to_csv(os.path.join(output_base_folder, 'train.csv'), sep=',', index=False)"
   ]
  }
 ],
 "metadata": {
  "kernelspec": {
   "display_name": "Python 3",
   "language": "python",
   "name": "python3"
  },
  "language_info": {
   "codemirror_mode": {
    "name": "ipython",
    "version": 3
   },
   "file_extension": ".py",
   "mimetype": "text/x-python",
   "name": "python",
   "nbconvert_exporter": "python",
   "pygments_lexer": "ipython3",
   "version": "3.10.12"
  }
 },
 "nbformat": 4,
 "nbformat_minor": 2
}
