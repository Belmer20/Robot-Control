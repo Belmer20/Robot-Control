{
 "cells": [
  {
   "cell_type": "code",
   "execution_count": null,
   "metadata": {},
   "outputs": [],
   "source": [
    "import librosa\n",
    "import librosa.display\n",
    "import os\n",
    "from tqdm import tqdm\n",
    "from utils import ( extract_amp_env,\n",
    "                    extract_rmse,\n",
    "                    extract_zrc,\n",
    "                    extract_fft,\n",
    "                    extract_spect,\n",
    "                    extract_mel_spect,\n",
    "                    extract_mfcc)"
   ]
  },
  {
   "cell_type": "code",
   "execution_count": null,
   "metadata": {},
   "outputs": [],
   "source": [
    "clips_path = os.path.abspath('./clips') \n",
    "features_folder_path = os.path.abspath('./features/')\n",
    "amp_env_output_folder = 'amplitude_envelop/'\n",
    "rms_output_folder = 'root_mean_square_error/'\n",
    "zcr_output_folder = 'zero_crossing_rate/'\n",
    "fft_output_folder = 'fast_fourier_transform/'\n",
    "spectrogram_output_folder = 'spectrogram/'\n",
    "mel_spectrogram_output_folder = 'mel_spectrogram/'\n",
    "mfccs_output_folder = 'mfcc/'\n",
    "\n",
    "files = os.listdir(clips_path)\n",
    "\n",
    "#! Hyper params\n",
    "frame_size = 1024\n",
    "HOP = 512\n",
    "number_mels = 64\n",
    "number_mfccs = 13"
   ]
  },
  {
   "cell_type": "code",
   "execution_count": null,
   "metadata": {},
   "outputs": [],
   "source": [
    "def create_out_folders():\n",
    "    if not (os.path.exists(features_folder_path)):\n",
    "        os.mkdir(features_folder_path)\n",
    "\n",
    "    if not (os.path.exists(os.path.join(features_folder_path, amp_env_output_folder))):\n",
    "        os.mkdir(os.path.join(features_folder_path, amp_env_output_folder))\n",
    "\n",
    "    if not (os.path.exists(os.path.join(features_folder_path, rms_output_folder))):\n",
    "        os.mkdir(os.path.join(features_folder_path, rms_output_folder))\n",
    "        \n",
    "    if not (os.path.exists(os.path.join(features_folder_path, zcr_output_folder))):\n",
    "        os.mkdir(os.path.join(features_folder_path, zcr_output_folder))\n",
    "\n",
    "    if not (os.path.exists(os.path.join(features_folder_path, fft_output_folder))):\n",
    "        os.mkdir(os.path.join(features_folder_path, fft_output_folder))\n",
    "\n",
    "    if not (os.path.exists(os.path.join(features_folder_path, spectrogram_output_folder))):\n",
    "        os.mkdir(os.path.join(features_folder_path, spectrogram_output_folder))\n",
    "\n",
    "    if not (os.path.exists(os.path.join(features_folder_path, mel_spectrogram_output_folder))):\n",
    "        os.mkdir(os.path.join(features_folder_path, mel_spectrogram_output_folder))\n",
    "\n",
    "    if not (os.path.exists(os.path.join(features_folder_path, mfccs_output_folder))):\n",
    "        os.mkdir(os.path.join(features_folder_path, mfccs_output_folder))\n",
    "\n",
    "\n",
    "\n",
    "create_out_folders()"
   ]
  },
  {
   "cell_type": "markdown",
   "metadata": {},
   "source": [
    "# Extracting the Amplitude Envelop"
   ]
  },
  {
   "cell_type": "code",
   "execution_count": null,
   "metadata": {},
   "outputs": [],
   "source": [
    "\n",
    "#! True to plot one example\n",
    "plot_once = True\n",
    "\n",
    "for filename in tqdm(files, ncols=100):\n",
    "    audio_id = '_'.join(filename.split('_')[0:2]).replace(\".wav\", \"\")\n",
    "\n",
    "    #! load the audio file \n",
    "    file_path = os.path.join(clips_path, filename)\n",
    "    audio, sr = librosa.load(file_path, sr=None, mono=True)\n",
    "    # librosa.display.waveshow()\n",
    "\n",
    "    extract_amp_env(audio, sr, frame_size, HOP, os.path.join(features_folder_path, amp_env_output_folder, audio_id+\".npy\"), plot_once)\n",
    "    plot_once = False\n"
   ]
  },
  {
   "cell_type": "markdown",
   "metadata": {},
   "source": [
    "# Extracting the Root Mean Squared Energy"
   ]
  },
  {
   "cell_type": "code",
   "execution_count": null,
   "metadata": {},
   "outputs": [],
   "source": [
    "\n",
    "#! True to plot one example\n",
    "plot_once = True\n",
    "for filename in tqdm(files, ncols=100):\n",
    "    audio_id = '_'.join(filename.split('_')[0:2]).replace(\".wav\", \"\")\n",
    "    #! load the audio file \n",
    "    file_path = os.path.join(clips_path, filename)\n",
    "    audio, sr = librosa.load(file_path, sr=None, mono=True)\n",
    "\n",
    "    extract_rmse(audio, sr, frame_size, HOP, os.path.join(features_folder_path, rms_output_folder, audio_id+\".npy\"), plot_once)\n",
    "    plot_once = False\n",
    "    "
   ]
  },
  {
   "cell_type": "markdown",
   "metadata": {},
   "source": [
    "# Extracting The Zero Crossing Rate"
   ]
  },
  {
   "cell_type": "code",
   "execution_count": null,
   "metadata": {},
   "outputs": [],
   "source": [
    "\n",
    "plot_once = True\n",
    "for filename in tqdm(files, ncols=100):\n",
    "    audio_id = '_'.join(filename.split('_')[0:2]).replace(\".wav\", \"\")\n",
    "    \n",
    "    output_folder = os.path.join(features_folder_path, zcr_output_folder, audio_id+\".npy\")\n",
    "    #! load the audio file \n",
    "    file_path = os.path.join(clips_path, filename)\n",
    "    audio, sr = librosa.load(file_path, sr=None, mono=True)\n",
    "\n",
    "    extract_zrc(audio, sr, frame_size, HOP, output_folder, plot_once)\n",
    "    \n",
    "    plot_once = False\n",
    "\n",
    "    "
   ]
  },
  {
   "cell_type": "markdown",
   "metadata": {},
   "source": [
    "# Extracting The Fast Fourier Transform"
   ]
  },
  {
   "cell_type": "code",
   "execution_count": null,
   "metadata": {},
   "outputs": [],
   "source": [
    "\n",
    "plot_once = True\n",
    "for filename in tqdm(files, ncols=100):\n",
    "    audio_id = '_'.join(filename.split('_')[0:2]).replace(\".wav\", \"\")\n",
    "    output_folder = os.path.join(features_folder_path, fft_output_folder, audio_id+\".npy\")\n",
    "    #! load the audio file \n",
    "    file_path = os.path.join(clips_path, filename)\n",
    "    audio, sr = librosa.load(file_path, mono=True)\n",
    "\n",
    "    extract_fft(audio, sr, output_folder, plot_once)\n",
    "\n",
    "    plot_once= False\n",
    "    "
   ]
  },
  {
   "cell_type": "markdown",
   "metadata": {},
   "source": [
    "# Extracting The Spectogram"
   ]
  },
  {
   "cell_type": "code",
   "execution_count": null,
   "metadata": {},
   "outputs": [],
   "source": [
    "\n",
    "plot_once = True\n",
    "for filename in tqdm(files, ncols=100):\n",
    "    audio_id = '_'.join(filename.split('_')[0:2]).replace(\".wav\", \"\")\n",
    "    output_folder = os.path.join(features_folder_path, spectrogram_output_folder, audio_id+\".npy\")\n",
    "\n",
    "    #! load the audio file \n",
    "    file_path = os.path.join(clips_path, filename)\n",
    "    audio, sr = librosa.load(file_path, mono=True)\n",
    "    \n",
    "    extract_spect(audio, sr, frame_size, HOP, output_folder, plot_once)\n",
    "    plot_once = False\n"
   ]
  },
  {
   "cell_type": "markdown",
   "metadata": {},
   "source": [
    "# Extracting the Mel-Spectrogram"
   ]
  },
  {
   "cell_type": "code",
   "execution_count": null,
   "metadata": {},
   "outputs": [],
   "source": [
    "\n",
    "plot_once = True\n",
    "for filename in tqdm(files, ncols=100):\n",
    "    audio_id = '_'.join(filename.split('_')[0:2]).replace(\".wav\", \"\")\n",
    "    output_folder = os.path.join(features_folder_path, mel_spectrogram_output_folder, audio_id+\".npy\")\n",
    "    \n",
    "    #! load the audio file \n",
    "    file_path = os.path.join(clips_path, filename)\n",
    "    audio, sr = librosa.load(file_path, mono=True)\n",
    "\n",
    "    # melbanks = librosa.filters.mel(n_fft=frame_size, sr=sr,  n_mels=number_mels)\n",
    "\n",
    "    extract_mel_spect(audio, sr, frame_size, HOP, number_mels, output_folder, plot_once)\n",
    "    \n",
    "    plot_once = False\n",
    "    "
   ]
  },
  {
   "cell_type": "markdown",
   "metadata": {},
   "source": [
    "# Extracting MFCCs"
   ]
  },
  {
   "cell_type": "code",
   "execution_count": null,
   "metadata": {},
   "outputs": [],
   "source": [
    "target_sr = 16000\n",
    "plot_once = True\n",
    "for filename in tqdm(files, ncols=100):\n",
    "    audio_id = '_'.join(filename.split('_')[0:2]).replace(\".wav\", \"\")\n",
    "    output_folder = os.path.join(features_folder_path, mfccs_output_folder, audio_id+\".npy\")\n",
    "    \n",
    "    file_path = os.path.join(clips_path, filename)\n",
    "    audio, sr = librosa.load(file_path, sr=None, mono=True)  \n",
    "    \n",
    "    audio_resampled = librosa.resample(audio, sr, target_sr)\n",
    "\n",
    "    extract_mfcc(audio, sr, number_mfccs, output_folder, plot_once)\n",
    "\n",
    "    plot_once = False"
   ]
  },
  {
   "cell_type": "code",
   "execution_count": null,
   "metadata": {},
   "outputs": [],
   "source": [
    "target_sr = 16000\n",
    "plot_once = True\n",
    "for filename in tqdm(files, ncols=100):\n",
    "    audio_id = '_'.join(filename.split('_')[0:2]).replace(\".wav\", \"\")\n",
    "    output_folder = os.path.join(features_folder_path, mfccs_output_folder, audio_id+\".npy\")\n",
    "    \n",
    "    file_path = os.path.join(clips_path, filename)\n",
    "    audio, sr = librosa.load(file_path, sr=None, mono=True)  \n",
    "    \n",
    "    audio_resampled = librosa.resample(audio, orig_sr=sr, target_sr=target_sr)\n",
    "\n",
    "    extract_mfcc(audio, sr, number_mfccs, output_folder, plot_once)\n",
    "\n",
    "    plot_once = False"
   ]
  },
  {
   "cell_type": "code",
   "execution_count": null,
   "metadata": {},
   "outputs": [],
   "source": []
  }
 ],
 "metadata": {
  "kernelspec": {
   "display_name": "Python 3 (ipykernel)",
   "language": "python",
   "name": "python3"
  },
  "language_info": {
   "codemirror_mode": {
    "name": "ipython",
    "version": 3
   },
   "file_extension": ".py",
   "mimetype": "text/x-python",
   "name": "python",
   "nbconvert_exporter": "python",
   "pygments_lexer": "ipython3",
   "version": "3.10.14"
  }
 },
 "nbformat": 4,
 "nbformat_minor": 4
}
